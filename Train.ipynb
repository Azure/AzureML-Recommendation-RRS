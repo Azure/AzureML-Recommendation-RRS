{
                 "cells": [
                  {
                   "cell_type": "code",
                   "execution_count": null,
                   "metadata": {
                    "collapsed": true
                   },
                   "outputs": [],
                   "source": [
                    "# Use the Azure Machine Learning data collector to log various metrics\r\n",
                    "from azureml.logging import get_azureml_logger\r\n",
                    "logger = get_azureml_logger()"
                   ]
                  },
                  {
                   "cell_type": "code",
                   "execution_count": null,
                   "metadata": {
                    "collapsed": true
                   },
                   "outputs": [],
                   "source": [
                    "# Use Azure Machine Learning history magic to control history collection\r\n",
                    "# History is off by default, options are \"on\", \"off\", or \"show\"\r\n",
                    "# %azureml history on"
                   ]
                  }
                 ],
                 "metadata": {
                  "kernelspec": {
                   "display_name": "blads_recommendation_rrs local",
                   "language": "python",
                   "name": "blads_recommendation_rrs_local"
                  },
                  "language_info": {
                   "codemirror_mode": {
                    "name": "ipython",
                    "version": 3
                   },
                   "file_extension": ".py",
                   "mimetype": "text/x-python",
                   "name": "python",
                   "nbconvert_exporter": "python",
                   "pygments_lexer": "ipython3",
                   "version": "3.5.2"
                  }
                 },
                 "nbformat": 4,
                 "nbformat_minor": 2
                }