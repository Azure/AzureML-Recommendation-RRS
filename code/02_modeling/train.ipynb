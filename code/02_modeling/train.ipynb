{
 "cells": [
  {
   "cell_type": "code",
   "execution_count": 10,
   "metadata": {},
   "outputs": [],
   "source": [
    "# Use the Azure Machine Learning data source package\n",
    "from azureml.dataprep import datasource\n",
    "from azureml.logging import get_azureml_logger\n",
    "\n",
    "import pyspark\n",
    "from pyspark.ml.tuning import *\n",
    "from pyspark.sql.types import *\n",
    "\n",
    "# Use the Azure Machine Learning data collector to log various metrics\n",
    "logger = get_azureml_logger()"
   ]
  },
  {
   "cell_type": "code",
   "execution_count": 11,
   "metadata": {},
   "outputs": [],
   "source": [
    "# This call will load the referenced data source and return a DataFrame.\n",
    "# If run in a PySpark environment, this call returns a\n",
    "# Spark DataFrame. If not, it returns a Pandas DataFrame.\n",
    "df = datasource.load_datasource('ratings.dsource')"
   ]
  },
  {
   "cell_type": "code",
   "execution_count": 12,
   "metadata": {},
   "outputs": [],
   "source": [
    "from pyspark.ml.recommendation import ALS\n",
    "als = ALS() \\\n",
    "    .setUserCol(\"userId\") \\\n",
    "    .setRatingCol(\"rating\") \\\n",
    "    .setItemCol(\"movieId\") \\\n",
    "\n",
    "alsModel = als.fit(df)"
   ]
  },
  {
   "cell_type": "code",
   "execution_count": 14,
   "metadata": {},
   "outputs": [],
   "source": [
    "!rm -r ./outputs/model"
   ]
  },
  {
   "cell_type": "code",
   "execution_count": 15,
   "metadata": {},
   "outputs": [],
   "source": [
    "alsModel.save(\"./outputs/model\")"
   ]
  },
  {
   "cell_type": "code",
   "execution_count": 16,
   "metadata": {},
   "outputs": [
    {
     "name": "stdout",
     "output_type": "stream",
     "text": [
      "itemFactors  metadata  userFactors\r\n"
     ]
    }
   ],
   "source": [
    "!ls outputs/model"
   ]
  },
  {
   "cell_type": "code",
   "execution_count": 17,
   "metadata": {},
   "outputs": [],
   "source": [
    "userRecs = alsModel.recommendForAllUsers(100)"
   ]
  },
  {
   "cell_type": "code",
   "execution_count": 46,
   "metadata": {},
   "outputs": [],
   "source": [
    "# Need to create CosmosDB Collection before insertion\n",
    "import pydocumentdb\n",
    "from pydocumentdb import document_client\n",
    "from pydocumentdb import documents\n",
    "import datetime\n",
    "\n",
    "masterKey = 'oX6tWPep8FCah8RM258s7cC3x9Kl8tWdbDxmNknXCP34ShW1Ag1ladvb5QWuBmMxuRISBO2HfrRFv3QeJYCSYg=='\n",
    "host = 'https://dcibrecommendationhack.documents.azure.com:443/'\n",
    "database = 'recommendation_engine'\n",
    "collection = 'user_recommendations_100_part4'\n",
    "\n",
    "database_link = 'dbs/' + database\n",
    "\n",
    "client = document_client.DocumentClient(host, {'masterKey': masterKey})"
   ]
  },
  {
   "cell_type": "code",
   "execution_count": 47,
   "metadata": {},
   "outputs": [
    {
     "data": {
      "text/plain": [
       "{'_conflicts': 'conflicts/',\n",
       " '_docs': 'docs/',\n",
       " '_etag': '\"00003800-0000-0000-0000-5a8324420000\"',\n",
       " '_rid': 'iqYGAOWRjQM=',\n",
       " '_self': 'dbs/iqYGAA==/colls/iqYGAOWRjQM=/',\n",
       " '_sprocs': 'sprocs/',\n",
       " '_triggers': 'triggers/',\n",
       " '_ts': 1518543938,\n",
       " '_udfs': 'udfs/',\n",
       " 'id': 'user_recommendations_100_part4',\n",
       " 'indexingPolicy': {'automatic': True,\n",
       "  'excludedPaths': [],\n",
       "  'includedPaths': [{'indexes': [{'dataType': 'Number',\n",
       "      'kind': 'Range',\n",
       "      'precision': -1},\n",
       "     {'dataType': 'String', 'kind': 'Hash', 'precision': 3}],\n",
       "    'path': '/*'}],\n",
       "  'indexingMode': 'consistent'},\n",
       " 'partitionKey': {'kind': 'Hash', 'paths': ['/userId']}}"
      ]
     },
     "execution_count": 47,
     "metadata": {},
     "output_type": "execute_result"
    }
   ],
   "source": [
    "coll = { 'id': collection, 'partitionKey': {'paths': ['/userId']} }\n",
    "collection_options = { 'offerThroughput': 1000 }\n",
    "client.CreateCollection(database_link, coll, collection_options )"
   ]
  },
  {
   "cell_type": "code",
   "execution_count": 48,
   "metadata": {},
   "outputs": [],
   "source": [
    "\n",
    "# Write configuration\n",
    "writeConfig = {\n",
    "\"Endpoint\" : host,\n",
    "\"Masterkey\" : masterKey,\n",
    "\"Database\" : database,\n",
    "\"Collection\" : collection,\n",
    "\"Upsert\" : \"true\"\n",
    "}\n",
    "userRecs.select(\"userId\", \"recommendations.movieId\").write.format(\"com.microsoft.azure.cosmosdb.spark\").options(**writeConfig).save()"
   ]
  },
  {
   "cell_type": "code",
   "execution_count": null,
   "metadata": {},
   "outputs": [],
   "source": []
  }
 ],
 "metadata": {
  "kernelspec": {
   "display_name": "blads_recommendation_rrs dsvm",
   "language": "python",
   "name": "blads_recommendation_rrs_dsvm"
  },
  "language_info": {
   "codemirror_mode": {
    "name": "ipython",
    "version": 3
   },
   "file_extension": ".py",
   "mimetype": "text/x-python",
   "name": "python",
   "nbconvert_exporter": "python",
   "pygments_lexer": "ipython3",
   "version": "3.5.2"
  }
 },
 "nbformat": 4,
 "nbformat_minor": 2
}
