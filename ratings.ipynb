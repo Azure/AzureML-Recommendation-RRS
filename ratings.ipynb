{
 "cells": [
  {
   "cell_type": "code",
   "execution_count": 1,
   "metadata": {},
   "outputs": [],
   "source": [
    "# Use the Azure Machine Learning data source package\n",
    "from azureml.dataprep import datasource\n",
    "\n",
    "# Use the Azure Machine Learning data collector to log various metrics\n",
    "from azureml.logging import get_azureml_logger\n",
    "logger = get_azureml_logger()\n"
   ]
  },
  {
   "cell_type": "code",
   "execution_count": 2,
   "metadata": {},
   "outputs": [],
   "source": [
    "# Use Azure Machine Learning history magic to control history collection\n",
    "# History is off by default, options are \"on\", \"off\", or \"show\"\n",
    "# %azureml history on\n"
   ]
  },
  {
   "cell_type": "code",
   "execution_count": 3,
   "metadata": {},
   "outputs": [
    {
     "data": {
      "text/plain": [
       "[Row(userId=1.0, movieId=31.0, rating=2.5, timestamp=1260759144.0),\n",
       " Row(userId=1.0, movieId=1029.0, rating=3.0, timestamp=1260759179.0),\n",
       " Row(userId=1.0, movieId=1061.0, rating=3.0, timestamp=1260759182.0),\n",
       " Row(userId=1.0, movieId=1129.0, rating=2.0, timestamp=1260759185.0),\n",
       " Row(userId=1.0, movieId=1172.0, rating=4.0, timestamp=1260759205.0),\n",
       " Row(userId=1.0, movieId=1263.0, rating=2.0, timestamp=1260759151.0),\n",
       " Row(userId=1.0, movieId=1287.0, rating=2.0, timestamp=1260759187.0),\n",
       " Row(userId=1.0, movieId=1293.0, rating=2.0, timestamp=1260759148.0),\n",
       " Row(userId=1.0, movieId=1339.0, rating=3.5, timestamp=1260759125.0),\n",
       " Row(userId=1.0, movieId=1343.0, rating=2.0, timestamp=1260759131.0)]"
      ]
     },
     "execution_count": 3,
     "metadata": {},
     "output_type": "execute_result"
    }
   ],
   "source": [
    "# This call will load the referenced data source and return a DataFrame.\n",
    "# If run in a PySpark environment, this call returns a\n",
    "# Spark DataFrame. If not, it returns a Pandas DataFrame.\n",
    "df = datasource.load_datasource('ratings.dsource')\n",
    "\n",
    "# Remove this line and add code that uses the DataFrame\n",
    "df.head(10)\n"
   ]
  },
  {
   "cell_type": "code",
   "execution_count": 4,
   "metadata": {},
   "outputs": [],
   "source": [
    "import pyspark\n",
    "\n",
    "from pyspark.ml.tuning import *\n",
    "from pyspark.sql.types import *"
   ]
  },
  {
   "cell_type": "code",
   "execution_count": 5,
   "metadata": {},
   "outputs": [],
   "source": [
    "from pyspark.ml.recommendation import ALS\n",
    "als = ALS() \\\n",
    "    .setUserCol(\"userId\") \\\n",
    "    .setRatingCol(\"rating\") \\\n",
    "    .setItemCol(\"movieId\") \\\n",
    "\n",
    "alsModel = als.fit(df)"
   ]
  },
  {
   "cell_type": "code",
   "execution_count": 6,
   "metadata": {},
   "outputs": [],
   "source": [
    "alsModel.save(\"./outputs/model\")"
   ]
  },
  {
   "cell_type": "code",
   "execution_count": 9,
   "metadata": {},
   "outputs": [
    {
     "name": "stdout",
     "output_type": "stream",
     "text": [
      "itemFactors  metadata  userFactors\r\n"
     ]
    }
   ],
   "source": [
    "!ls outputs/model"
   ]
  },
  {
   "cell_type": "code",
   "execution_count": null,
   "metadata": {},
   "outputs": [],
   "source": []
  }
 ],
 "metadata": {
  "kernelspec": {
   "display_name": "blads_recommendation_rrs dsvm",
   "language": "python",
   "name": "blads_recommendation_rrs_dsvm"
  },
  "language_info": {
   "codemirror_mode": {
    "name": "ipython",
    "version": 3
   },
   "file_extension": ".py",
   "mimetype": "text/x-python",
   "name": "python",
   "nbconvert_exporter": "python",
   "pygments_lexer": "ipython3",
   "version": "3.5.2"
  }
 },
 "nbformat": 4,
 "nbformat_minor": 2
}
